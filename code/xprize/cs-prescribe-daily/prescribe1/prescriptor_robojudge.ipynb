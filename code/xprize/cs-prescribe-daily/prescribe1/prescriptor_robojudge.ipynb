{
 "cells": [
  {
   "cell_type": "raw",
   "metadata": {
    "scrolled": false
   },
   "source": [
    "# Copyright 2020 (c) Cognizant Digital Business, Evolutionary AI. All rights reserved. Issued under the Apache 2.0 License."
   ]
  },
  {
   "cell_type": "markdown",
   "metadata": {
    "scrolled": false
   },
   "source": [
    "# Prescriptor robojudge\n",
    "Notebook for evaluating prescriptions using standard predictor.\n",
    "\n",
    "The main metric computed is based on how many other prescriptions\n",
    "each submission dominates on the pareto front of stringency vs cases."
   ]
  },
  {
   "cell_type": "code",
   "execution_count": 1,
   "metadata": {
    "scrolled": false
   },
   "outputs": [],
   "source": [
    "import os\n",
    "import matplotlib.pyplot as plt\n",
    "%matplotlib inline\n",
    "import numpy as np\n",
    "import pandas as pd\n",
    "\n",
    "from helpers.utils import IP_COLS as NPI_COLUMNS, _dot\n",
    "from helpers.prescriptor_scoring import weight_prescriptions_by_cost\n",
    "from helpers.prescriptor_scoring import generate_cases_and_stringency_for_prescriptions\n",
    "from helpers.prescriptor_scoring import compute_domination_df\n",
    "from helpers.prescriptor_scoring import compute_pareto_set\n",
    "from helpers.prescriptor_validation import validate_submission"
   ]
  },
  {
   "cell_type": "code",
   "execution_count": 2,
   "metadata": {
    "scrolled": false
   },
   "outputs": [],
   "source": [
    "# Can set these longer for better evaluation. Will increase eval time\n",
    "START_DATE = \"2020-08-01\"\n",
    "END_DATE = \"2020-08-05\""
   ]
  },
  {
   "cell_type": "markdown",
   "metadata": {},
   "source": [
    "# Prepare Historical IP Data"
   ]
  },
  {
   "cell_type": "code",
   "execution_count": 3,
   "metadata": {},
   "outputs": [],
   "source": [
    "from helpers.predictor_scoring import load_dataset\n",
    "from helpers.scenario_generator import generate_scenario\n",
    "\n",
    "LATEST_DATA_URL = '../../data/oxford/country/AL-estimate.csv'\n",
    "GEO_FILE = \"countries_regions.csv\"\n",
    "\n",
    "latest_df = load_dataset(LATEST_DATA_URL, GEO_FILE)"
   ]
  },
  {
   "cell_type": "code",
   "execution_count": 4,
   "metadata": {},
   "outputs": [],
   "source": [
    "IP_FILE = \"prescriptions/robojudge_test_scenario.csv\"\n",
    "countries = [\"Albania\"]\n",
    "scenario_df = generate_scenario(START_DATE, END_DATE, latest_df, countries, scenario=\"Freeze\")\n",
    "scenario_df.to_csv(IP_FILE, index=False)"
   ]
  },
  {
   "cell_type": "markdown",
   "metadata": {},
   "source": [
    "# Generate some prescriptions"
   ]
  },
  {
   "cell_type": "code",
   "execution_count": 5,
   "metadata": {},
   "outputs": [],
   "source": [
    "# Cost weightings for each IP for each geo\n",
    "TEST_COST = \"../validation/data/uniform_random_costs_.csv\""
   ]
  },
  {
   "cell_type": "code",
   "execution_count": 6,
   "metadata": {
    "scrolled": true
   },
   "outputs": [
    {
     "name": "stdout",
     "output_type": "stream",
     "text": [
      "Generating prescriptions from 2020-08-01 to 2020-08-05...\n",
      "Done!\n",
      "Generating prescriptions from 2020-08-01 to 2020-08-05...\n",
      "Done!\n"
     ]
    }
   ],
   "source": [
    "# Generate some random prescriptions\n",
    "for i in range(2):\n",
    "    output_file = \"./examples/prescriptors/random/prescriptions/random_presc_\"+ str(i+1) +\".csv\"\n",
    "    !python ./examples/prescriptors/random/prescribe.py -s {START_DATE} \\\n",
    "                                                                   -e {END_DATE} \\\n",
    "                                                                   -ip {IP_FILE} \\\n",
    "                                                                   -c {TEST_COST} \\\n",
    "                                                                   -o {output_file}"
   ]
  },
  {
   "cell_type": "code",
   "execution_count": 7,
   "metadata": {},
   "outputs": [
    {
     "name": "stdout",
     "output_type": "stream",
     "text": [
      "Generating prescriptions from 2020-08-01 to 2020-08-05...\r\n",
      "Done!\r\n"
     ]
    }
   ],
   "source": [
    "# Generate blind_greedy prescriptions\n",
    "output_file = \"./examples/prescriptors/blind_greedy/prescriptions/blind_greedy.csv\"\n",
    "!python ./examples/prescriptors/blind_greedy/prescribe.py -s {START_DATE} \\\n",
    "                                                                     -e {END_DATE} \\\n",
    "                                                                     -ip {IP_FILE} \\\n",
    "                                                                     -c {TEST_COST} \\\n",
    "                                                                     -o {output_file}"
   ]
  },
  {
   "cell_type": "code",
   "execution_count": 6,
   "metadata": {
    "scrolled": false
   },
   "outputs": [],
   "source": [
    "prescription_files = {\n",
    "#     'NeatExample': './neat_prescriptions_example.csv',\n",
    "    'Random1': './examples/prescriptors/random/prescriptions/random_presc_1.csv',\n",
    "    'Random2': './examples/prescriptors/random/prescriptions/random_presc_2.csv',\n",
    "    'BlindGreedy': './examples/prescriptors/blind_greedy/prescriptions/blind_greedy.csv',\n",
    "    'ours': './prescriptions/ours3.csv',\n",
    "}"
   ]
  },
  {
   "cell_type": "code",
   "execution_count": 7,
   "metadata": {},
   "outputs": [
    {
     "name": "stdout",
     "output_type": "stream",
     "text": [
      "Random1: All good!\n",
      "Random2: All good!\n",
      "BlindGreedy: All good!\n",
      "ours: All good!\n"
     ]
    }
   ],
   "source": [
    "# Validate the prescription files\n",
    "for prescriptor_name, output_file in prescription_files.items():\n",
    "    errors = validate_submission(START_DATE, END_DATE, IP_FILE, output_file)\n",
    "    if errors:\n",
    "        for error in errors:\n",
    "            print(f\"{prescriptor_name}: {error}\")\n",
    "    else:\n",
    "        print(f\"{prescriptor_name}: All good!\")"
   ]
  },
  {
   "cell_type": "markdown",
   "metadata": {},
   "source": [
    "# Evaluate them"
   ]
  },
  {
   "cell_type": "code",
   "execution_count": 137,
   "metadata": {
    "scrolled": false
   },
   "outputs": [
    {
     "name": "stdout",
     "output_type": "stream",
     "text": [
      "Generating predictions for BlindGreedy\n",
      "Generated predictions for PrescriptionIndex 0\n",
      "Generated predictions for PrescriptionIndex 1\n",
      "Generated predictions for PrescriptionIndex 2\n",
      "Generated predictions for PrescriptionIndex 3\n",
      "Generated predictions for PrescriptionIndex 4\n",
      "Generated predictions for PrescriptionIndex 5\n",
      "Generated predictions for PrescriptionIndex 6\n",
      "Generated predictions for PrescriptionIndex 7\n",
      "Generated predictions for PrescriptionIndex 8\n",
      "Generated predictions for PrescriptionIndex 9\n",
      "Evaluated 10 PrescriptionIndex in 00:00:11 seconds\n",
      "Generating predictions for Random1\n",
      "Generated predictions for PrescriptionIndex 0\n",
      "Generated predictions for PrescriptionIndex 1\n",
      "Generated predictions for PrescriptionIndex 2\n",
      "Generated predictions for PrescriptionIndex 3\n",
      "Generated predictions for PrescriptionIndex 4\n",
      "Generated predictions for PrescriptionIndex 5\n",
      "Generated predictions for PrescriptionIndex 6\n",
      "Generated predictions for PrescriptionIndex 7\n",
      "Generated predictions for PrescriptionIndex 8\n",
      "Generated predictions for PrescriptionIndex 9\n",
      "Evaluated 10 PrescriptionIndex in 00:00:08 seconds\n",
      "Generating predictions for Random2\n",
      "Generated predictions for PrescriptionIndex 0\n",
      "Generated predictions for PrescriptionIndex 1\n",
      "Generated predictions for PrescriptionIndex 2\n",
      "Generated predictions for PrescriptionIndex 3\n",
      "Generated predictions for PrescriptionIndex 4\n",
      "Generated predictions for PrescriptionIndex 5\n",
      "Generated predictions for PrescriptionIndex 6\n",
      "Generated predictions for PrescriptionIndex 7\n",
      "Generated predictions for PrescriptionIndex 8\n",
      "Generated predictions for PrescriptionIndex 9\n",
      "Evaluated 10 PrescriptionIndex in 00:00:07 seconds\n",
      "Generating predictions for ours\n",
      "Generated predictions for PrescriptionIndex 1\n",
      "Evaluated 1 PrescriptionIndex in 00:00:03 seconds\n"
     ]
    }
   ],
   "source": [
    "# Collect case and stringency data for all prescriptors\n",
    "dfs = []\n",
    "for prescriptor_name, prescription_file in sorted(prescription_files.items()):\n",
    "    print(\"Generating predictions for\", prescriptor_name)\n",
    "    df, _ = generate_cases_and_stringency_for_prescriptions(START_DATE, END_DATE, prescription_file, TEST_COST)\n",
    "    df['PrescriptorName'] = prescriptor_name\n",
    "    dfs.append(df)\n",
    "df = pd.concat(dfs)"
   ]
  },
  {
   "cell_type": "code",
   "execution_count": 138,
   "metadata": {
    "scrolled": true
   },
   "outputs": [
    {
     "data": {
      "text/html": [
       "<div>\n",
       "<style scoped>\n",
       "    .dataframe tbody tr th:only-of-type {\n",
       "        vertical-align: middle;\n",
       "    }\n",
       "\n",
       "    .dataframe tbody tr th {\n",
       "        vertical-align: top;\n",
       "    }\n",
       "\n",
       "    .dataframe thead th {\n",
       "        text-align: right;\n",
       "    }\n",
       "</style>\n",
       "<table border=\"1\" class=\"dataframe\">\n",
       "  <thead>\n",
       "    <tr style=\"text-align: right;\">\n",
       "      <th></th>\n",
       "      <th>CountryName</th>\n",
       "      <th>RegionName</th>\n",
       "      <th>PrescriptionIndex</th>\n",
       "      <th>PredictedDailyNewCases</th>\n",
       "      <th>Stringency</th>\n",
       "      <th>PrescriptorName</th>\n",
       "    </tr>\n",
       "  </thead>\n",
       "  <tbody>\n",
       "    <tr>\n",
       "      <th>0</th>\n",
       "      <td>Albania</td>\n",
       "      <td>NaN</td>\n",
       "      <td>0</td>\n",
       "      <td>159.595682</td>\n",
       "      <td>0.200</td>\n",
       "      <td>BlindGreedy</td>\n",
       "    </tr>\n",
       "    <tr>\n",
       "      <th>1</th>\n",
       "      <td>Albania</td>\n",
       "      <td>NaN</td>\n",
       "      <td>1</td>\n",
       "      <td>156.905153</td>\n",
       "      <td>0.400</td>\n",
       "      <td>BlindGreedy</td>\n",
       "    </tr>\n",
       "    <tr>\n",
       "      <th>2</th>\n",
       "      <td>Albania</td>\n",
       "      <td>NaN</td>\n",
       "      <td>2</td>\n",
       "      <td>153.994143</td>\n",
       "      <td>0.800</td>\n",
       "      <td>BlindGreedy</td>\n",
       "    </tr>\n",
       "    <tr>\n",
       "      <th>3</th>\n",
       "      <td>Albania</td>\n",
       "      <td>NaN</td>\n",
       "      <td>3</td>\n",
       "      <td>149.274740</td>\n",
       "      <td>1.220</td>\n",
       "      <td>BlindGreedy</td>\n",
       "    </tr>\n",
       "    <tr>\n",
       "      <th>4</th>\n",
       "      <td>Albania</td>\n",
       "      <td>NaN</td>\n",
       "      <td>4</td>\n",
       "      <td>148.664001</td>\n",
       "      <td>2.200</td>\n",
       "      <td>BlindGreedy</td>\n",
       "    </tr>\n",
       "    <tr>\n",
       "      <th>5</th>\n",
       "      <td>Albania</td>\n",
       "      <td>NaN</td>\n",
       "      <td>5</td>\n",
       "      <td>143.337473</td>\n",
       "      <td>6.520</td>\n",
       "      <td>BlindGreedy</td>\n",
       "    </tr>\n",
       "    <tr>\n",
       "      <th>6</th>\n",
       "      <td>Albania</td>\n",
       "      <td>NaN</td>\n",
       "      <td>6</td>\n",
       "      <td>142.619960</td>\n",
       "      <td>10.840</td>\n",
       "      <td>BlindGreedy</td>\n",
       "    </tr>\n",
       "    <tr>\n",
       "      <th>7</th>\n",
       "      <td>Albania</td>\n",
       "      <td>NaN</td>\n",
       "      <td>7</td>\n",
       "      <td>142.100050</td>\n",
       "      <td>13.720</td>\n",
       "      <td>BlindGreedy</td>\n",
       "    </tr>\n",
       "    <tr>\n",
       "      <th>8</th>\n",
       "      <td>Albania</td>\n",
       "      <td>NaN</td>\n",
       "      <td>8</td>\n",
       "      <td>141.556780</td>\n",
       "      <td>16.920</td>\n",
       "      <td>BlindGreedy</td>\n",
       "    </tr>\n",
       "    <tr>\n",
       "      <th>9</th>\n",
       "      <td>Albania</td>\n",
       "      <td>NaN</td>\n",
       "      <td>9</td>\n",
       "      <td>140.716189</td>\n",
       "      <td>21.780</td>\n",
       "      <td>BlindGreedy</td>\n",
       "    </tr>\n",
       "    <tr>\n",
       "      <th>0</th>\n",
       "      <td>Albania</td>\n",
       "      <td>NaN</td>\n",
       "      <td>0</td>\n",
       "      <td>149.948006</td>\n",
       "      <td>13.992</td>\n",
       "      <td>Random1</td>\n",
       "    </tr>\n",
       "    <tr>\n",
       "      <th>1</th>\n",
       "      <td>Albania</td>\n",
       "      <td>NaN</td>\n",
       "      <td>1</td>\n",
       "      <td>149.605806</td>\n",
       "      <td>13.434</td>\n",
       "      <td>Random1</td>\n",
       "    </tr>\n",
       "    <tr>\n",
       "      <th>2</th>\n",
       "      <td>Albania</td>\n",
       "      <td>NaN</td>\n",
       "      <td>2</td>\n",
       "      <td>150.459573</td>\n",
       "      <td>10.752</td>\n",
       "      <td>Random1</td>\n",
       "    </tr>\n",
       "    <tr>\n",
       "      <th>3</th>\n",
       "      <td>Albania</td>\n",
       "      <td>NaN</td>\n",
       "      <td>3</td>\n",
       "      <td>151.057272</td>\n",
       "      <td>12.664</td>\n",
       "      <td>Random1</td>\n",
       "    </tr>\n",
       "    <tr>\n",
       "      <th>4</th>\n",
       "      <td>Albania</td>\n",
       "      <td>NaN</td>\n",
       "      <td>4</td>\n",
       "      <td>149.385228</td>\n",
       "      <td>11.318</td>\n",
       "      <td>Random1</td>\n",
       "    </tr>\n",
       "    <tr>\n",
       "      <th>5</th>\n",
       "      <td>Albania</td>\n",
       "      <td>NaN</td>\n",
       "      <td>5</td>\n",
       "      <td>149.543964</td>\n",
       "      <td>12.148</td>\n",
       "      <td>Random1</td>\n",
       "    </tr>\n",
       "    <tr>\n",
       "      <th>6</th>\n",
       "      <td>Albania</td>\n",
       "      <td>NaN</td>\n",
       "      <td>6</td>\n",
       "      <td>149.982008</td>\n",
       "      <td>13.734</td>\n",
       "      <td>Random1</td>\n",
       "    </tr>\n",
       "    <tr>\n",
       "      <th>7</th>\n",
       "      <td>Albania</td>\n",
       "      <td>NaN</td>\n",
       "      <td>7</td>\n",
       "      <td>151.377473</td>\n",
       "      <td>10.704</td>\n",
       "      <td>Random1</td>\n",
       "    </tr>\n",
       "    <tr>\n",
       "      <th>8</th>\n",
       "      <td>Albania</td>\n",
       "      <td>NaN</td>\n",
       "      <td>8</td>\n",
       "      <td>149.132546</td>\n",
       "      <td>14.342</td>\n",
       "      <td>Random1</td>\n",
       "    </tr>\n",
       "    <tr>\n",
       "      <th>9</th>\n",
       "      <td>Albania</td>\n",
       "      <td>NaN</td>\n",
       "      <td>9</td>\n",
       "      <td>149.136801</td>\n",
       "      <td>12.490</td>\n",
       "      <td>Random1</td>\n",
       "    </tr>\n",
       "    <tr>\n",
       "      <th>0</th>\n",
       "      <td>Albania</td>\n",
       "      <td>NaN</td>\n",
       "      <td>0</td>\n",
       "      <td>150.092111</td>\n",
       "      <td>11.104</td>\n",
       "      <td>Random2</td>\n",
       "    </tr>\n",
       "    <tr>\n",
       "      <th>1</th>\n",
       "      <td>Albania</td>\n",
       "      <td>NaN</td>\n",
       "      <td>1</td>\n",
       "      <td>150.666632</td>\n",
       "      <td>11.728</td>\n",
       "      <td>Random2</td>\n",
       "    </tr>\n",
       "    <tr>\n",
       "      <th>2</th>\n",
       "      <td>Albania</td>\n",
       "      <td>NaN</td>\n",
       "      <td>2</td>\n",
       "      <td>148.620759</td>\n",
       "      <td>11.642</td>\n",
       "      <td>Random2</td>\n",
       "    </tr>\n",
       "    <tr>\n",
       "      <th>3</th>\n",
       "      <td>Albania</td>\n",
       "      <td>NaN</td>\n",
       "      <td>3</td>\n",
       "      <td>149.080802</td>\n",
       "      <td>12.034</td>\n",
       "      <td>Random2</td>\n",
       "    </tr>\n",
       "    <tr>\n",
       "      <th>4</th>\n",
       "      <td>Albania</td>\n",
       "      <td>NaN</td>\n",
       "      <td>4</td>\n",
       "      <td>149.765730</td>\n",
       "      <td>15.514</td>\n",
       "      <td>Random2</td>\n",
       "    </tr>\n",
       "    <tr>\n",
       "      <th>5</th>\n",
       "      <td>Albania</td>\n",
       "      <td>NaN</td>\n",
       "      <td>5</td>\n",
       "      <td>149.401650</td>\n",
       "      <td>13.434</td>\n",
       "      <td>Random2</td>\n",
       "    </tr>\n",
       "    <tr>\n",
       "      <th>6</th>\n",
       "      <td>Albania</td>\n",
       "      <td>NaN</td>\n",
       "      <td>6</td>\n",
       "      <td>149.403625</td>\n",
       "      <td>12.314</td>\n",
       "      <td>Random2</td>\n",
       "    </tr>\n",
       "    <tr>\n",
       "      <th>7</th>\n",
       "      <td>Albania</td>\n",
       "      <td>NaN</td>\n",
       "      <td>7</td>\n",
       "      <td>148.997270</td>\n",
       "      <td>12.570</td>\n",
       "      <td>Random2</td>\n",
       "    </tr>\n",
       "    <tr>\n",
       "      <th>8</th>\n",
       "      <td>Albania</td>\n",
       "      <td>NaN</td>\n",
       "      <td>8</td>\n",
       "      <td>149.904433</td>\n",
       "      <td>11.466</td>\n",
       "      <td>Random2</td>\n",
       "    </tr>\n",
       "    <tr>\n",
       "      <th>9</th>\n",
       "      <td>Albania</td>\n",
       "      <td>NaN</td>\n",
       "      <td>9</td>\n",
       "      <td>149.612369</td>\n",
       "      <td>11.060</td>\n",
       "      <td>Random2</td>\n",
       "    </tr>\n",
       "    <tr>\n",
       "      <th>0</th>\n",
       "      <td>Albania</td>\n",
       "      <td>NaN</td>\n",
       "      <td>1</td>\n",
       "      <td>148.352117</td>\n",
       "      <td>5.240</td>\n",
       "      <td>ours</td>\n",
       "    </tr>\n",
       "  </tbody>\n",
       "</table>\n",
       "</div>"
      ],
      "text/plain": [
       "  CountryName  RegionName  PrescriptionIndex  PredictedDailyNewCases  \\\n",
       "0     Albania         NaN                  0              159.595682   \n",
       "1     Albania         NaN                  1              156.905153   \n",
       "2     Albania         NaN                  2              153.994143   \n",
       "3     Albania         NaN                  3              149.274740   \n",
       "4     Albania         NaN                  4              148.664001   \n",
       "5     Albania         NaN                  5              143.337473   \n",
       "6     Albania         NaN                  6              142.619960   \n",
       "7     Albania         NaN                  7              142.100050   \n",
       "8     Albania         NaN                  8              141.556780   \n",
       "9     Albania         NaN                  9              140.716189   \n",
       "0     Albania         NaN                  0              149.948006   \n",
       "1     Albania         NaN                  1              149.605806   \n",
       "2     Albania         NaN                  2              150.459573   \n",
       "3     Albania         NaN                  3              151.057272   \n",
       "4     Albania         NaN                  4              149.385228   \n",
       "5     Albania         NaN                  5              149.543964   \n",
       "6     Albania         NaN                  6              149.982008   \n",
       "7     Albania         NaN                  7              151.377473   \n",
       "8     Albania         NaN                  8              149.132546   \n",
       "9     Albania         NaN                  9              149.136801   \n",
       "0     Albania         NaN                  0              150.092111   \n",
       "1     Albania         NaN                  1              150.666632   \n",
       "2     Albania         NaN                  2              148.620759   \n",
       "3     Albania         NaN                  3              149.080802   \n",
       "4     Albania         NaN                  4              149.765730   \n",
       "5     Albania         NaN                  5              149.401650   \n",
       "6     Albania         NaN                  6              149.403625   \n",
       "7     Albania         NaN                  7              148.997270   \n",
       "8     Albania         NaN                  8              149.904433   \n",
       "9     Albania         NaN                  9              149.612369   \n",
       "0     Albania         NaN                  1              148.352117   \n",
       "\n",
       "   Stringency PrescriptorName  \n",
       "0       0.200     BlindGreedy  \n",
       "1       0.400     BlindGreedy  \n",
       "2       0.800     BlindGreedy  \n",
       "3       1.220     BlindGreedy  \n",
       "4       2.200     BlindGreedy  \n",
       "5       6.520     BlindGreedy  \n",
       "6      10.840     BlindGreedy  \n",
       "7      13.720     BlindGreedy  \n",
       "8      16.920     BlindGreedy  \n",
       "9      21.780     BlindGreedy  \n",
       "0      13.992         Random1  \n",
       "1      13.434         Random1  \n",
       "2      10.752         Random1  \n",
       "3      12.664         Random1  \n",
       "4      11.318         Random1  \n",
       "5      12.148         Random1  \n",
       "6      13.734         Random1  \n",
       "7      10.704         Random1  \n",
       "8      14.342         Random1  \n",
       "9      12.490         Random1  \n",
       "0      11.104         Random2  \n",
       "1      11.728         Random2  \n",
       "2      11.642         Random2  \n",
       "3      12.034         Random2  \n",
       "4      15.514         Random2  \n",
       "5      13.434         Random2  \n",
       "6      12.314         Random2  \n",
       "7      12.570         Random2  \n",
       "8      11.466         Random2  \n",
       "9      11.060         Random2  \n",
       "0       5.240            ours  "
      ]
     },
     "execution_count": 138,
     "metadata": {},
     "output_type": "execute_result"
    }
   ],
   "source": [
    "df[df['CountryName'] == 'Albania']"
   ]
  },
  {
   "cell_type": "code",
   "execution_count": 139,
   "metadata": {
    "scrolled": true
   },
   "outputs": [
    {
     "name": "stdout",
     "output_type": "stream",
     "text": [
      "Computing domination for Albania nan\n"
     ]
    }
   ],
   "source": [
    "ddf = compute_domination_df(df)"
   ]
  },
  {
   "cell_type": "code",
   "execution_count": 140,
   "metadata": {
    "scrolled": false
   },
   "outputs": [
    {
     "data": {
      "text/plain": [
       "DominatingName\n",
       "BlindGreedy    20\n",
       "ours           20\n",
       "Random2         7\n",
       "Random1         5\n",
       "Name: DominatedIndex, dtype: int64"
      ]
     },
     "execution_count": 140,
     "metadata": {},
     "output_type": "execute_result"
    }
   ],
   "source": [
    "# Get number of dominated prescriptions for each submission. This is the \"Domination Count\"\n",
    "ddf.groupby('DominatingName').count().sort_values('DominatedIndex', ascending=False)['DominatedIndex']"
   ]
  },
  {
   "cell_type": "code",
   "execution_count": 141,
   "metadata": {},
   "outputs": [],
   "source": [
    "def plot_pareto_curve(objective1_list, objective2_list):\n",
    "    \"\"\"\n",
    "    Plot the pareto curve given the objective values for a set of solutions.\n",
    "    This curve indicates the area dominated by the solution set, i.e., \n",
    "    every point up and to the right is dominated.\n",
    "    \"\"\"\n",
    "    \n",
    "    # Compute pareto set from full solution set.\n",
    "    objective1_pareto, objective2_pareto = compute_pareto_set(objective1_list, \n",
    "                                                              objective2_list)\n",
    "    \n",
    "    # Sort by first objective.\n",
    "    objective1_pareto, objective2_pareto = list(zip(*sorted(zip(objective1_pareto,\n",
    "                                                                objective2_pareto))))\n",
    "    \n",
    "    # Compute the coordinates to plot.\n",
    "    xs = []\n",
    "    ys = []\n",
    "    \n",
    "    xs.append(objective1_pareto[0])\n",
    "    ys.append(objective2_pareto[0])\n",
    "    \n",
    "    for i in range(0, len(objective1_pareto)-1):\n",
    "        \n",
    "        # Add intermediate point between successive solutions\n",
    "        xs.append(objective1_pareto[i+1])\n",
    "        ys.append(objective2_pareto[i])\n",
    "        \n",
    "        # Add next solution on front\n",
    "        xs.append(objective1_pareto[i+1])\n",
    "        ys.append(objective2_pareto[i+1])\n",
    "        \n",
    "    plt.plot(xs, ys)"
   ]
  },
  {
   "cell_type": "code",
   "execution_count": 142,
   "metadata": {
    "scrolled": false
   },
   "outputs": [
    {
     "data": {
      "image/png": "[encoded data removed]",
      "text/plain": [
       "<Figure size 720x576 with 1 Axes>"
      ]
     },
     "metadata": {
      "needs_background": "light"
     },
     "output_type": "display_data"
    }
   ],
   "source": [
    "# Plot overall stringency and cases of each prescription\n",
    "plt.figure(figsize=(10,8))\n",
    "for prescriptor_name in prescription_files:\n",
    "    pdf = df[df['PrescriptorName'] == prescriptor_name]\n",
    "    overall_pdf = pdf.groupby('PrescriptionIndex').mean().reset_index()\n",
    "    plt.scatter(overall_pdf['Stringency'],\n",
    "                overall_pdf['PredictedDailyNewCases'], \n",
    "                label=prescriptor_name)\n",
    "    plot_pareto_curve(list(overall_pdf['Stringency']),\n",
    "                      list(overall_pdf['PredictedDailyNewCases']))\n",
    "plt.xlabel('Mean stringency')\n",
    "plt.ylabel('Mean cases per day per geo')\n",
    "plt.legend()\n",
    "plt.show()"
   ]
  },
  {
   "cell_type": "code",
   "execution_count": 143,
   "metadata": {
    "scrolled": false
   },
   "outputs": [
    {
     "data": {
      "text/plain": [
       "<AxesSubplot:xlabel='Date', ylabel='Stringency'>"
      ]
     },
     "execution_count": 143,
     "metadata": {},
     "output_type": "execute_result"
    },
    {
     "data": {
      "image/png": "[encoded data removed]",
      "text/plain": [
       "<Figure size 720x576 with 1 Axes>"
      ]
     },
     "metadata": {
      "needs_background": "light"
     },
     "output_type": "display_data"
    }
   ],
   "source": [
    "# Plot stacked line chart of npis over time for a prescription for a particular geo\n",
    "\n",
    "#submission_file = 'covid_xprize.examples/prescriptors/neat/test_prescriptions/pres.csv'\n",
    "submission_file = './prescriptions/ours3.csv'\n",
    "\n",
    "prescription_index = 1\n",
    "country_name = 'Albania'\n",
    "region_name = None\n",
    "NPI_COLUMNS = _dot(NPI_COLUMNS)\n",
    "\n",
    "pdf = pd.read_csv(submission_file)\n",
    "gdf = pdf[(pdf['PrescriptionIndex'] == prescription_index) &\n",
    "          (pdf['CountryName'] == country_name) &\n",
    "          (pdf['RegionName'].isna() if region_name is None else (pdf['RegionName'] == 'region_name'))]\n",
    "gdf.plot.area(x='Date', y=NPI_COLUMNS, figsize=(10,8), ylabel='Stringency')"
   ]
  },
  {
   "cell_type": "code",
   "execution_count": 44,
   "metadata": {},
   "outputs": [
    {
     "data": {
      "image/png": "[encoded data removed]",
      "text/plain": [
       "<Figure size 720x576 with 1 Axes>"
      ]
     },
     "metadata": {
      "needs_background": "light"
     },
     "output_type": "display_data"
    }
   ],
   "source": [
    "# Plot stringency and cases of each prescription for a particular country\n",
    "country_name = 'Albania'\n",
    "cdf = df[df.CountryName == country_name]\n",
    "\n",
    "plt.figure(figsize=(10,8))\n",
    "for prescriptor_name in prescription_files:\n",
    "    pdf = cdf[cdf['PrescriptorName'] == prescriptor_name]\n",
    "    #overall_pdf = pdf.groupby('PrescriptionIndex').mean().reset_index()\n",
    "    plt.scatter(pdf['Stringency'],\n",
    "                pdf['PredictedDailyNewCases'], \n",
    "                label=prescriptor_name)\n",
    "    plot_pareto_curve(list(pdf['Stringency']),\n",
    "                      list(pdf['PredictedDailyNewCases']))\n",
    "plt.xlabel('Mean stringency')\n",
    "plt.ylabel('Mean cases per day per geo')\n",
    "plt.title(country_name)\n",
    "plt.legend()\n",
    "plt.show()"
   ]
  },
  {
   "cell_type": "code",
   "execution_count": null,
   "metadata": {},
   "outputs": [],
   "source": []
  }
 ],
 "metadata": {
  "kernelspec": {
   "display_name": "Python 3",
   "language": "python",
   "name": "python3"
  },
  "language_info": {
   "codemirror_mode": {
    "name": "ipython",
    "version": 3
   },
   "file_extension": ".py",
   "mimetype": "text/x-python",
   "name": "python",
   "nbconvert_exporter": "python",
   "pygments_lexer": "ipython3",
   "version": "3.8.6"
  }
 },
 "nbformat": 4,
 "nbformat_minor": 4
}
